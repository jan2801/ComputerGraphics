{
 "cells": [
  {
   "cell_type": "code",
   "execution_count": 11,
   "metadata": {},
   "outputs": [],
   "source": [
    "from PIL import Image\n",
    "from math import *"
   ]
  },
  {
   "cell_type": "code",
   "execution_count": 12,
   "metadata": {},
   "outputs": [],
   "source": [
    "from image import *"
   ]
  },
  {
   "cell_type": "code",
   "execution_count": 13,
   "metadata": {},
   "outputs": [],
   "source": [
    "im = Image.open(r'canvas.png')\n",
    "#открываю фон"
   ]
  },
  {
   "cell_type": "code",
   "execution_count": 14,
   "metadata": {},
   "outputs": [],
   "source": [
    "widght, height = im.size\n",
    "#сохраняем размеры фона в перменные"
   ]
  },
  {
   "cell_type": "code",
   "execution_count": 15,
   "metadata": {},
   "outputs": [],
   "source": [
    "window_widght = 10\n",
    "window_height = 10\n",
    "camera_to_window = 10\n",
    "#устанавливаем размеры окна и расттояние от наблюдателя до окна"
   ]
  },
  {
   "cell_type": "code",
   "execution_count": 16,
   "metadata": {},
   "outputs": [],
   "source": [
    "def to3D(x, y):\n",
    "    x1 = x * window_widght / widght\n",
    "    y1 = y * window_height / height\n",
    "    return (x1, y1)"
   ]
  },
  {
   "cell_type": "code",
   "execution_count": 21,
   "metadata": {},
   "outputs": [],
   "source": [
    "def TraceRaytoScreen(o, point, tmin, tmax):\n",
    "    return (0, 0, 255)"
   ]
  },
  {
   "cell_type": "code",
   "execution_count": 23,
   "metadata": {},
   "outputs": [],
   "source": [
    "start = (0, 0, 0)\n",
    "for x in range(-300, 300):\n",
    "    x_1 = x + 300\n",
    "    for y in range(-300, 300):\n",
    "        y_1 = y + 300\n",
    "        color = TraceRaytoScreen(start, to3D(x, y), 0, inf)\n",
    "        #воздвращаем цвет, попадая лучём в пиксель на экране\n",
    "        im.putpixel((x_1, y_1), tuple(int(c) for c in color))\n",
    "    \n",
    "im.show()"
   ]
  },
  {
   "cell_type": "code",
   "execution_count": null,
   "metadata": {},
   "outputs": [],
   "source": []
  }
 ],
 "metadata": {
  "kernelspec": {
   "display_name": "Python 3",
   "language": "python",
   "name": "python3"
  }
 },
 "nbformat": 4,
 "nbformat_minor": 4
}
