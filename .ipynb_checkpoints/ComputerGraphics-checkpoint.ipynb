{
 "cells": [
  {
   "cell_type": "code",
   "execution_count": 1,
   "metadata": {},
   "outputs": [],
   "source": [
    "from PIL import Image\n",
    "from math import *\n",
    "import numpy as np"
   ]
  },
  {
   "cell_type": "code",
   "execution_count": 2,
   "metadata": {},
   "outputs": [],
   "source": [
    "from image import *\n",
    "class sphere:\n",
    "    def __init__(self, c, r, col, s):\n",
    "        self.center = np.array(c)\n",
    "        self.radius = np.array(r)\n",
    "        self.color = np.array(col)\n",
    "        self.specular = s\n",
    "        \n",
    "        \n",
    "class light:\n",
    "    def __init__(self, t, i, p = (0, 0, 0)):\n",
    "        self.t = t\n",
    "        self.int = i\n",
    "        self.pos = np.array(p)\n",
    "\n",
    "\n",
    "   \n",
    "\n",
    "\n",
    "\n",
    "\n"
   ]
  },
  {
   "cell_type": "code",
   "execution_count": 3,
   "metadata": {},
   "outputs": [
    {
     "data": {
      "text/plain": [
       "[<__main__.sphere at 0x1d226a55340>,\n",
       " <__main__.sphere at 0x1d226a553a0>,\n",
       " <__main__.sphere at 0x1d226a55370>,\n",
       " <__main__.sphere at 0x1d226a55430>,\n",
       " <__main__.sphere at 0x1d226a55490>]"
      ]
     },
     "execution_count": 3,
     "metadata": {},
     "output_type": "execute_result"
    }
   ],
   "source": [
    "spheres = []\n",
    "spheres.append(sphere((0, 0, 4), 0.5, (220, 0, 0), 500))\n",
    "spheres.append(sphere((0, 0, 1), 0.3, (0, 0, 230), 300))\n",
    "spheres.append(sphere((0, -0.2, 4), 0.2, (25, 10, 0), 1000))\n",
    "spheres.append(sphere((0.5, -1, 3), 0.2, (0, 255, 0), 200))\n",
    "spheres.append(sphere((0, -5001, 0), 5000, (255, 255, 0), 100))\n",
    "spheres\n"
   ]
  },
  {
   "cell_type": "code",
   "execution_count": 4,
   "metadata": {},
   "outputs": [],
   "source": [
    "def findLights(p, N, v, s):\n",
    "    i = 0.0\n",
    "    \n",
    "    for light in lights:\n",
    "        if light.t == \"ambient\":\n",
    "            i += light.int\n",
    "        else:\n",
    "            if light.t == \"point\":\n",
    "                direction = np.array(light.pos) - p\n",
    "        #считаем расстояние до источника\n",
    "            #else:\n",
    "                #direction = light.direction\n",
    "\n",
    "            n_dot_l = np.sum(np.dot(N, direction))\n",
    "            #диффузность\n",
    "            if n_dot_l > 0:\n",
    "                i += light.int * n_dot_l / (sqrt(np.sum(np.square(np.array(N)))) * sqrt(np.sum(np.square(np.array(direction)))))\n",
    "            #зеркальность\n",
    "            if s != -1:\n",
    "                R = 2 * N * np.sum(np.dot(N, direction)) - direction\n",
    "                r_dot_v =  np.sum(np.dot(R, V))\n",
    "                if r_dot_v > 0\n",
    "                    i += light.int * pow(r_dot_v / (sqrt(np.sum(np.square(np.array(R))))*(sqrt(np.sum(np.square(np.array(v)))))), s)\n",
    "        \n",
    "      \n",
    "    return i\n",
    "\n"
   ]
  },
  {
   "cell_type": "code",
   "execution_count": 5,
   "metadata": {},
   "outputs": [],
   "source": [
    "lights = []\n",
    "lights.append(light(\"ambient\", 0.3))\n",
    "lights.append(light(\"point\", 0.7, (4, 5, 0)))\n",
    "\n",
    "#lights.append(\"directional\", 0.2, (1, 4, 4))"
   ]
  },
  {
   "cell_type": "code",
   "execution_count": 6,
   "metadata": {},
   "outputs": [],
   "source": [
    "im = Image.open(r'canvas.png')\n",
    "#открываю фон"
   ]
  },
  {
   "cell_type": "code",
   "execution_count": 7,
   "metadata": {},
   "outputs": [],
   "source": [
    "width, height = im.size\n",
    "#сохраняем размеры фона в перменные"
   ]
  },
  {
   "cell_type": "code",
   "execution_count": 8,
   "metadata": {},
   "outputs": [],
   "source": [
    "window_width = 10\n",
    "window_height = 10\n",
    "camera_to_window = 10\n",
    "#устанавливаем размеры окна и расттояние от наблюдателя до окна"
   ]
  },
  {
   "cell_type": "code",
   "execution_count": 9,
   "metadata": {},
   "outputs": [],
   "source": [
    "def to3D(x, y):\n",
    "    x1 = x * window_width / width\n",
    "    y1 = y * window_height / height\n",
    "    #print(x1, y1)\n",
    "    return (x1, -y1, camera_to_window)"
   ]
  },
  {
   "cell_type": "code",
   "execution_count": 10,
   "metadata": {},
   "outputs": [],
   "source": [
    "#ищем точки пересечения лучей со сферой\n",
    "def IntersectSphere(st, cam_sc, sphere):\n",
    "    center = sphere.center\n",
    "    rad = sphere.radius\n",
    "    o_c = np.array(st) - np.array(center)\n",
    "    #print(cam_sc, o_c)\n",
    "    #считаем вектор смещения от начала координат ля цента сферы\n",
    "    #print(np.dot(o_c, np.array(cam_sc)), type(o_c), type(np.array(cam_sc)))\n",
    "    a = np.sum(np.dot(np.array(cam_sc), np.array(cam_sc)))\n",
    "    b = 2 * np.sum(np.dot(o_c, np.array(cam_sc)))\n",
    "    c = np.sum(np.dot(o_c, o_c)) - rad * rad\n",
    "    #print(a, b, c)\n",
    "    #математически выводим коэффициенты\n",
    "    \n",
    "    \n",
    "    dis = b * b - 4 * c * a\n",
    "   \n",
    "    #print()\n",
    "    if dis < 0:\n",
    "        return inf, inf\n",
    "    #если дисриминант меньше нуля, значит пересечений нет\n",
    "    \n",
    "    \n",
    "    an1 = (-b + sqrt(dis)) / (2 * a)\n",
    "    an2 = (-b - sqrt(dis)) / (2 * a)\n",
    "    return an1, an2\n"
   ]
  },
  {
   "cell_type": "code",
   "execution_count": 11,
   "metadata": {},
   "outputs": [],
   "source": [
    "def Background(O, point, t_min, t_max):\n",
    "    closest = inf\n",
    "    closest_sphere = None\n",
    "\n",
    "    for sp in spheres:\n",
    "        \n",
    "        t1, t2 = IntersectSphere(O, point, sp)\n",
    "\n",
    "        #возвращем точки пересечения\n",
    "    \n",
    "        if t1 >= t_min and t1 <= t_max and t1 < closest:\n",
    "            closest = t1\n",
    "            closest_sphere = sp\n",
    "        if t2 >= t_min and t2 <= t_max and t2 < closest:\n",
    "            closest = t2\n",
    "            closest_sphere = sp\n",
    "        #print(t1,t2)    \n",
    "        #находим ближайшую точку\n",
    "    if closest_sphere == None:\n",
    "        return (255, 255, 253)\n",
    "    #return closest_sphere.color\n",
    "\n",
    "\n",
    "    inters = O + np.dot(np.array(closest), np.array(point))  # вычисление пересечения\n",
    "    norm = inters - np.array(closest_sphere.center)  # вычисление нормали сферы в точке пересечения\n",
    "    norm = norm / (sqrt(np.sum(np.square(np.array(norm)))))\n",
    "    return np.array(closest_sphere.color) * findLights(np.array(point), np.array(norm))"
   ]
  },
  {
   "cell_type": "code",
   "execution_count": 12,
   "metadata": {},
   "outputs": [],
   "source": [
    "start = (0, 0, 0)\n",
    "for x in range(-300, 300):\n",
    "    x_1 = x + 300\n",
    "    for y in range(-300, 300):\n",
    "        y_1 = y + 300\n",
    "        color = Background(np.array(start), to3D(x, y), 0, inf)\n",
    "        #воздвращаем цвет, попадая лучём в пиксель на экране\n",
    "        im.putpixel((x_1, y_1), tuple(int(c) for c in color))\n",
    "    \n",
    "im.show()"
   ]
  },
  {
   "cell_type": "code",
   "execution_count": 13,
   "metadata": {},
   "outputs": [],
   "source": [
    "#люблю Наташу\n",
    "#❤️❤️❤️❤️❤️❤️❤️❤️❤️❤️❤️❤️❤️❤️❤️❤️❤️❤️❤️❤️❤️❤️❤️❤️\n",
    "#❤️❤️❤️❤️❤️❤️❤️❤️❤️❤️❤️❤️❤️❤️❤️❤️❤️❤️❤️❤️❤️❤️❤️❤️\n",
    "#❤️❤️❤️❤️❤️❤️❤️❤️❤️❤️❤️❤️❤️❤️❤️❤️❤️❤️❤️❤️❤️❤️❤️❤️\n",
    "#❤️❤️❤️❤️❤️❤️❤️❤️❤️❤️❤️❤️❤️❤️❤️❤️❤️❤️❤️❤️❤️❤️❤️❤️\n",
    "#❤️❤️❤️❤️❤️❤️❤️❤️❤️❤️❤️❤️❤️❤️❤️❤️❤️❤️❤️❤️❤️❤️❤️❤️\n",
    "#❤️❤️❤️❤️❤️❤️❤️❤️❤️❤️❤️❤️❤️❤️❤️❤️❤️❤️❤️❤️❤️❤️❤️❤️\n",
    "#❤️❤️❤️❤️❤️❤️❤️❤️❤️❤️❤️❤️❤️❤️❤️❤️❤️❤️❤️❤️❤️❤️❤️❤️\n",
    "#❤️❤️❤️❤️❤️❤️❤️❤️❤️❤️❤️❤️❤️❤️❤️❤️❤️❤️❤️❤️❤️❤️❤️❤️\n",
    "#❤️❤️❤️❤️❤️❤️❤️❤️❤️❤️❤️❤️❤️❤️❤️❤️❤️❤️❤️❤️❤️❤️❤️❤️"
   ]
  },
  {
   "cell_type": "markdown",
   "metadata": {},
   "source": [
    "# ыыыыыыыыыыыыыыыыыыыыыыыыыыыыыыыыыыыыыыыыыыыыыыыыыыыыыыыыыыыыыыыыыыыыыыыыыыыыыыыыыыыыыыыыыыыыыыыыыыыыыыыыыыыыыыыыыыыыыыыыыыыыыыыыыыыыыыыыыыыыыыыыыыыыыыыыыыыыыыыыыыыыыыыыыыыыыыыы"
   ]
  },
  {
   "cell_type": "code",
   "execution_count": null,
   "metadata": {},
   "outputs": [],
   "source": []
  }
 ],
 "metadata": {
  "kernelspec": {
   "display_name": "Python 3",
   "language": "python",
   "name": "python3"
  },
  "language_info": {
   "codemirror_mode": {
    "name": "ipython",
    "version": 3
   },
   "file_extension": ".py",
   "mimetype": "text/x-python",
   "name": "python",
   "nbconvert_exporter": "python",
   "pygments_lexer": "ipython3",
   "version": "3.8.3"
  }
 },
 "nbformat": 4,
 "nbformat_minor": 4
}
